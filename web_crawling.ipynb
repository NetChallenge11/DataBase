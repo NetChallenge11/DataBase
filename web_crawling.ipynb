{
 "cells": [
  {
   "cell_type": "code",
   "execution_count": 46,
   "metadata": {},
   "outputs": [],
   "source": [
    "import mysql.connector"
   ]
  },
  {
   "cell_type": "code",
   "execution_count": 2,
   "metadata": {},
   "outputs": [],
   "source": [
    "# 데이터베이스 설정\n",
    "db_config = {\n",
    "    'host': 'localhost',\n",
    "    'user': 'store_user',\n",
    "    'password': '1234',\n",
    "    'database': 'store_data',\n",
    "    'charset': 'utf8mb4'  # utf8mb4 인코딩 설정\n",
    "}"
   ]
  },
  {
   "cell_type": "code",
   "execution_count": 3,
   "metadata": {},
   "outputs": [],
   "source": [
    "# 데이터베이스에 연결\n",
    "conn = mysql.connector.connect(**db_config)\n",
    "cursor = conn.cursor()\n",
    "\n",
    "# Stores 테이블을 생성합니다.\n",
    "cursor.execute('''\n",
    "CREATE TABLE IF NOT EXISTS Stores (\n",
    "    id INT AUTO_INCREMENT PRIMARY KEY,\n",
    "    name VARCHAR(255),\n",
    "    type VARCHAR(50),\n",
    "    description TEXT,\n",
    "    hours VARCHAR(100),\n",
    "    location VARCHAR(255),\n",
    "    phone VARCHAR(50),\n",
    "    menu TEXT\n",
    ") CHARACTER SET = utf8mb4 COLLATE = utf8mb4_unicode_ci;\n",
    "''')\n",
    "\n",
    "# Reviews 테이블을 생성합니다.\n",
    "cursor.execute('''\n",
    "CREATE TABLE IF NOT EXISTS Reviews (\n",
    "    id INT AUTO_INCREMENT PRIMARY KEY,\n",
    "    store_id INT,\n",
    "    user_name VARCHAR(255),\n",
    "    review TEXT,\n",
    "    FOREIGN KEY (store_id) REFERENCES Stores(id) ON DELETE CASCADE\n",
    ") CHARACTER SET = utf8mb4 COLLATE = utf8mb4_unicode_ci;\n",
    "''')"
   ]
  },
  {
   "cell_type": "code",
   "execution_count": 4,
   "metadata": {},
   "outputs": [
    {
     "name": "stdout",
     "output_type": "stream",
     "text": [
      "[('reviews',), ('stores',)]\n"
     ]
    }
   ],
   "source": [
    "cursor.execute(\"SHOW TABLES;\")\n",
    "tables = cursor.fetchall()\n",
    "print(tables)"
   ]
  },
  {
   "cell_type": "code",
   "execution_count": 5,
   "metadata": {},
   "outputs": [],
   "source": [
    "# 가게 데이터를 정의합니다.\n",
    "stores = [\n",
    "    {\n",
    "        \"name\": \"이레김밥\",\n",
    "        \"type\": \"음식점\",\n",
    "        \"description\": \"분식을 제공하는 음식점입니다.\",\n",
    "        \"hours\": \"10:00 - 22:00\",\n",
    "        \"location\": \"서울 동작구 상도로63길 15\",\n",
    "        \"phone\": \"02-816-6137\",\n",
    "        \"menu\": \"멸치김밥, 김치김밥, 라볶이, 떡라면\",\n",
    "        \"reviews\": [\n",
    "            {\"user_name\": \"눈누난나6\", \"review\": \"주문하면 바로 김밥 말아주세요. 간단하게 한끼 먹기 좋아요.\"},\n",
    "            {\"user_name\": \"안경이79\", \"review\": \"밥없을때 가끔 들러서 포장하는곳. 화려한 간판과 매장 없이도 맛있는 김밥 먹을수 있는 곳입니다.\"}\n",
    "        ]\n",
    "    },\n",
    "    {\n",
    "        \"name\": \"고렝\",\n",
    "        \"type\": \"음식점\",\n",
    "        \"description\": \"동남아 요리 전문점입니다.\",\n",
    "        \"hours\": \"11:00 - 22:00\",\n",
    "        \"location\": \"서울 동작구 상도로61길 72\",\n",
    "        \"phone\": \"070-8621-0906\",\n",
    "        \"menu\": \"쇠고기 쌀국수, 팟타이, 나시고렝, 분짜\",\n",
    "        \"reviews\": [\n",
    "            {\"user_name\": \"조조아375\", \"review\": \"숭실대학교 근처여서 그런지 가격이 너무 착하고 양은 또 많아요~! 그릇부터 인테리어까지 느낌 좋고 향 너무 짠하지 않아서 호불호없이 먹을 수 있을듯 왕갈비쌀국수 시켰는데 갈비탕 시킨 줄 알았어요. 현지느낌 물씬나는 카오팟은 매콤하게 주문해서 더 맛있게 먹었네요- 분위기가 좋고 또 대화하기도 좋아서 소개팅 자리로도 추천이에요 (실제로 옆 테이블 하고 계셨음) 친절한 직원분들과 맛있는 음식으로 좋은 시간 보내고 왔어요\"},\n",
    "            {\"user_name\": \"aokill\", \"review\": \"숭실대 몇 안 되는 맛집인 고렝!! 여러 번 가봤지만 우육면, 매운닭고기팟타이, 해산물나리고렝 요 3개가 제일 맛있었어요! 앞에 2개는 꽤 매워서 매운거 잘 드시는 분들께 추천드려요! 전체적으로 간은 쎄지만 향신료향은 강하지 않아서 호불호 없이 누구나 맛있게 먹을 수 있는 맛이에요! 잘 먹었습니당\"}\n",
    "        ]\n",
    "    },\n",
    "    {\n",
    "        \"name\": \"뚝배기스파게티\",\n",
    "        \"type\": \"음식점\",\n",
    "        \"description\": \"신선한 재료로 만든 이탈리안 파스타를 즐겨보세요.\",\n",
    "        \"hours\": \"10:30 - 20:30\",\n",
    "        \"location\": \"서울 동작구 사당로 42\",\n",
    "        \"phone\": None,\n",
    "        \"menu\": \"토마토소스/치즈오븐, 토마토소스/할라피뇨, 토마토소스/참치\",\n",
    "        \"reviews\": [\n",
    "            {\"user_name\": \"우끼끼끼릭\", \"review\": \"뚝배기에 파스타가 있어서 보온도 잘되고 옴청뜨거움!! 마늘바게트는 쪼꼼 별로였어요 ㅎㅎ 파스타는 굳굳!\"},\n",
    "            {\"user_name\": \"냥냥펀치51\", \"review\": \"진쨔 맛있게 잘 먹었어요!! 왜 여길 이제 왔나 싶고.. 앞으로도 자주 애용할것 같아요 ㅎㅎ\"}\n",
    "        ]\n",
    "    },\n",
    "    {\n",
    "        \"name\": \"화이트365 숭실대점\",\n",
    "        \"type\": \"빨래방\",\n",
    "        \"description\": \"24시간 운영하는 셀프 빨래방입니다.\",\n",
    "        \"hours\": \"00:00 - 23:59\",\n",
    "        \"location\": \"서울 동작구 상도로61길 55 1층\",\n",
    "        \"phone\": \"070-4947-3650\",\n",
    "        \"menu\": None,\n",
    "        \"reviews\": [\n",
    "            {\"user_name\": \"bys3130\", \"review\": \"좋습니다.\"},\n",
    "            {\"user_name\": \"음식저장일지\", \"review\": \"국국\"}\n",
    "        ]\n",
    "    },\n",
    "    {\n",
    "        \"name\": \"커피나무 숭실대점\",\n",
    "        \"type\": \"카페\",\n",
    "        \"description\": \"조용하고 아늑한 카페입니다.\",\n",
    "        \"hours\": \"10:00 - 22:00\",\n",
    "        \"location\": \"서울 동작구 상도로61길 65 1층\",\n",
    "        \"phone\": \"0507-2087-0066\",\n",
    "        \"menu\": \"얼그레이 아인슈페너, 피치 얼그레이, 얼그레이 크림 라떼\",\n",
    "        \"reviews\": [\n",
    "            {\"user_name\": \"바나나얌얌\", \"review\": \"커피랑 디저트도 맛있고 분위기도 좋아서 추천드리고 싶은 상도동 카페 입니다. 사실 저만 알고 싶은 곳인데… 그래도 좋은 정보는 항상 공유해드리고 싶으니까요ㅎ 특히 공부하기에 진짜 좋아욤! 강추!!!\"},\n",
    "            {\"user_name\": \"하늘나무바다jj\", \"review\": \"아늑하고~ 끌리는~ 따뜻함이 있는 곳이에요. 25년만에 다니던 학교앞에서 남편과 데이트 잘 마무리하구 왔네요^^\"}\n",
    "        ]\n",
    "    },\n",
    "    {\n",
    "        \"name\": \"메리엘스아이스크림 숭실대점\",\n",
    "        \"type\": \"아이스크림 판매점\",\n",
    "        \"description\": \"저렴한 가격에 아이스크림을 판매하는 가게입니다.\",\n",
    "        \"hours\": None,\n",
    "        \"location\": \"서울 동작구 상도로61길 55 1층\",\n",
    "        \"phone\": \"0507-1489-2037\",\n",
    "        \"menu\": None,\n",
    "        \"reviews\": [\n",
    "            {\"user_name\": \"단호박0321\", \"review\": \"굿\"},\n",
    "            {\"user_name\": \"myeongo\", \"review\": \"빨래방과 아이스크림 판매를 같이 하는 곳. 크지는 않은데 아이스크림 종류가 다양해서 좋아요\"}\n",
    "        ]\n",
    "    }\n",
    "]"
   ]
  },
  {
   "cell_type": "code",
   "execution_count": 6,
   "metadata": {},
   "outputs": [],
   "source": [
    "# 가게 데이터를 데이터베이스에 삽입합니다.\n",
    "for store in stores:\n",
    "    # Stores 테이블에 가게 정보를 삽입합니다.\n",
    "    cursor.execute('''\n",
    "    INSERT INTO Stores (name, type, description, hours, location, phone, menu)\n",
    "    VALUES (%s, %s, %s, %s, %s, %s, %s)\n",
    "    ''', (store[\"name\"], store[\"type\"], store[\"description\"], store[\"hours\"],\n",
    "          store[\"location\"], store[\"phone\"], store[\"menu\"]))\n",
    "\n",
    "    # 마지막으로 삽입된 가게의 id를 가져옵니다.\n",
    "    store_id = cursor.lastrowid\n",
    "\n",
    "    # 해당 가게의 리뷰를 Reviews 테이블에 삽입합니다.\n",
    "    for review in store[\"reviews\"]:\n",
    "        cursor.execute('''\n",
    "        INSERT INTO Reviews (store_id, user_name, review)\n",
    "        VALUES (%s, %s, %s)\n",
    "        ''', (store_id, review[\"user_name\"], review[\"review\"]))\n",
    "\n",
    "# 변경사항을 커밋합니다.\n",
    "conn.commit()"
   ]
  },
  {
   "cell_type": "code",
   "execution_count": 7,
   "metadata": {},
   "outputs": [
    {
     "name": "stdout",
     "output_type": "stream",
     "text": [
      "(1, '이레김밥', '음식점', '분식을 제공하는 음식점입니다.', '10:00 - 22:00', '서울 동작구 상도로63길 15', '02-816-6137', '멸치김밥, 김치김밥, 라볶이, 떡라면', '눈누난나6', '주문하면 바로 김밥 말아주세요. 간단하게 한끼 먹기 좋아요.')\n",
      "(1, '이레김밥', '음식점', '분식을 제공하는 음식점입니다.', '10:00 - 22:00', '서울 동작구 상도로63길 15', '02-816-6137', '멸치김밥, 김치김밥, 라볶이, 떡라면', '안경이79', '밥없을때 가끔 들러서 포장하는곳. 화려한 간판과 매장 없이도 맛있는 김밥 먹을수 있는 곳입니다.')\n",
      "(2, '고렝', '음식점', '동남아 요리 전문점입니다.', '11:00 - 22:00', '서울 동작구 상도로61길 72', '070-8621-0906', '쇠고기 쌀국수, 팟타이, 나시고렝, 분짜', '조조아375', '숭실대학교 근처여서 그런지 가격이 너무 착하고 양은 또 많아요~! 그릇부터 인테리어까지 느낌 좋고 향 너무 짠하지 않아서 호불호없이 먹을 수 있을듯 왕갈비쌀국수 시켰는데 갈비탕 시킨 줄 알았어요. 현지느낌 물씬나는 카오팟은 매콤하게 주문해서 더 맛있게 먹었네요- 분위기가 좋고 또 대화하기도 좋아서 소개팅 자리로도 추천이에요 (실제로 옆 테이블 하고 계셨음) 친절한 직원분들과 맛있는 음식으로 좋은 시간 보내고 왔어요')\n",
      "(2, '고렝', '음식점', '동남아 요리 전문점입니다.', '11:00 - 22:00', '서울 동작구 상도로61길 72', '070-8621-0906', '쇠고기 쌀국수, 팟타이, 나시고렝, 분짜', 'aokill', '숭실대 몇 안 되는 맛집인 고렝!! 여러 번 가봤지만 우육면, 매운닭고기팟타이, 해산물나리고렝 요 3개가 제일 맛있었어요! 앞에 2개는 꽤 매워서 매운거 잘 드시는 분들께 추천드려요! 전체적으로 간은 쎄지만 향신료향은 강하지 않아서 호불호 없이 누구나 맛있게 먹을 수 있는 맛이에요! 잘 먹었습니당')\n",
      "(3, '뚝배기스파게티', '음식점', '신선한 재료로 만든 이탈리안 파스타를 즐겨보세요.', '10:30 - 20:30', '서울 동작구 사당로 42', None, '토마토소스/치즈오븐, 토마토소스/할라피뇨, 토마토소스/참치', '우끼끼끼릭', '뚝배기에 파스타가 있어서 보온도 잘되고 옴청뜨거움!! 마늘바게트는 쪼꼼 별로였어요 ㅎㅎ 파스타는 굳굳!')\n",
      "(3, '뚝배기스파게티', '음식점', '신선한 재료로 만든 이탈리안 파스타를 즐겨보세요.', '10:30 - 20:30', '서울 동작구 사당로 42', None, '토마토소스/치즈오븐, 토마토소스/할라피뇨, 토마토소스/참치', '냥냥펀치51', '진쨔 맛있게 잘 먹었어요!! 왜 여길 이제 왔나 싶고.. 앞으로도 자주 애용할것 같아요 ㅎㅎ')\n",
      "(4, '화이트365 숭실대점', '빨래방', '24시간 운영하는 셀프 빨래방입니다.', '00:00 - 23:59', '서울 동작구 상도로61길 55 1층', '070-4947-3650', None, 'bys3130', '좋습니다.')\n",
      "(4, '화이트365 숭실대점', '빨래방', '24시간 운영하는 셀프 빨래방입니다.', '00:00 - 23:59', '서울 동작구 상도로61길 55 1층', '070-4947-3650', None, '음식저장일지', '국국')\n",
      "(5, '커피나무 숭실대점', '카페', '조용하고 아늑한 카페입니다.', '10:00 - 22:00', '서울 동작구 상도로61길 65 1층', '0507-2087-0066', '얼그레이 아인슈페너, 피치 얼그레이, 얼그레이 크림 라떼', '바나나얌얌', '커피랑 디저트도 맛있고 분위기도 좋아서 추천드리고 싶은 상도동 카페 입니다. 사실 저만 알고 싶은 곳인데… 그래도 좋은 정보는 항상 공유해드리고 싶으니까요ㅎ 특히 공부하기에 진짜 좋아욤! 강추!!!')\n",
      "(5, '커피나무 숭실대점', '카페', '조용하고 아늑한 카페입니다.', '10:00 - 22:00', '서울 동작구 상도로61길 65 1층', '0507-2087-0066', '얼그레이 아인슈페너, 피치 얼그레이, 얼그레이 크림 라떼', '하늘나무바다jj', '아늑하고~ 끌리는~ 따뜻함이 있는 곳이에요. 25년만에 다니던 학교앞에서 남편과 데이트 잘 마무리하구 왔네요^^')\n",
      "(6, '메리엘스아이스크림 숭실대점', '아이스크림 판매점', '저렴한 가격에 아이스크림을 판매하는 가게입니다.', None, '서울 동작구 상도로61길 55 1층', '0507-1489-2037', None, '단호박0321', '굿')\n",
      "(6, '메리엘스아이스크림 숭실대점', '아이스크림 판매점', '저렴한 가격에 아이스크림을 판매하는 가게입니다.', None, '서울 동작구 상도로61길 55 1층', '0507-1489-2037', None, 'myeongo', '빨래방과 아이스크림 판매를 같이 하는 곳. 크지는 않은데 아이스크림 종류가 다양해서 좋아요')\n"
     ]
    }
   ],
   "source": [
    "# 데이터베이스에서 가게와 리뷰 정보를 조회합니다.\n",
    "cursor.execute('''\n",
    "SELECT s.id, s.name, s.type, s.description, s.hours, s.location, s.phone, s.menu, r.user_name, r.review\n",
    "FROM Stores s\n",
    "LEFT JOIN Reviews r ON s.id = r.store_id\n",
    "''')\n",
    "rows = cursor.fetchall()\n",
    "\n",
    "# 조회한 데이터를 출력합니다.\n",
    "for row in rows:\n",
    "    print(row)\n",
    "\n",
    "# 데이터베이스 연결을 종료합니다.\n",
    "conn.close()"
   ]
  },
  {
   "cell_type": "code",
   "execution_count": null,
   "metadata": {},
   "outputs": [],
   "source": []
  }
 ],
 "metadata": {
  "kernelspec": {
   "display_name": "Python 3",
   "language": "python",
   "name": "python3"
  },
  "language_info": {
   "codemirror_mode": {
    "name": "ipython",
    "version": 3
   },
   "file_extension": ".py",
   "mimetype": "text/x-python",
   "name": "python",
   "nbconvert_exporter": "python",
   "pygments_lexer": "ipython3",
   "version": "3.9.13"
  }
 },
 "nbformat": 4,
 "nbformat_minor": 2
}
